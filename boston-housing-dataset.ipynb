{
 "cells": [
  {
   "cell_type": "code",
   "execution_count": 1,
   "id": "e3a9deed",
   "metadata": {
    "_cell_guid": "b1076dfc-b9ad-4769-8c92-a6c4dae69d19",
    "_uuid": "8f2839f25d086af736a60e9eeb907d3b93b6e0e5",
    "execution": {
     "iopub.execute_input": "2025-03-15T10:47:16.888374Z",
     "iopub.status.busy": "2025-03-15T10:47:16.887840Z",
     "iopub.status.idle": "2025-03-15T10:47:17.949819Z",
     "shell.execute_reply": "2025-03-15T10:47:17.948500Z"
    },
    "papermill": {
     "duration": 1.071131,
     "end_time": "2025-03-15T10:47:17.951626",
     "exception": false,
     "start_time": "2025-03-15T10:47:16.880495",
     "status": "completed"
    },
    "tags": []
   },
   "outputs": [
    {
     "name": "stdout",
     "output_type": "stream",
     "text": [
      "/kaggle/input/bostonhousing/BostonHousing.csv\n"
     ]
    }
   ],
   "source": [
    "# This Python 3 environment comes with many helpful analytics libraries installed\n",
    "# It is defined by the kaggle/python Docker image: https://github.com/kaggle/docker-python\n",
    "# For example, here's several helpful packages to load\n",
    "\n",
    "import numpy as np # linear algebra\n",
    "import pandas as pd # data processing, CSV file I/O (e.g. pd.read_csv)\n",
    "\n",
    "# Input data files are available in the read-only \"../input/\" directory\n",
    "# For example, running this (by clicking run or pressing Shift+Enter) will list all files under the input directory\n",
    "\n",
    "import os\n",
    "for dirname, _, filenames in os.walk('/kaggle/input'):\n",
    "    for filename in filenames:\n",
    "        print(os.path.join(dirname, filename))\n",
    "\n",
    "# You can write up to 20GB to the current directory (/kaggle/working/) that gets preserved as output when you create a version using \"Save & Run All\" \n",
    "# You can also write temporary files to /kaggle/temp/, but they won't be saved outside of the current session"
   ]
  },
  {
   "cell_type": "code",
   "execution_count": 2,
   "id": "8d50c842",
   "metadata": {
    "execution": {
     "iopub.execute_input": "2025-03-15T10:47:17.964758Z",
     "iopub.status.busy": "2025-03-15T10:47:17.964231Z",
     "iopub.status.idle": "2025-03-15T10:47:20.615151Z",
     "shell.execute_reply": "2025-03-15T10:47:20.613993Z"
    },
    "papermill": {
     "duration": 2.659569,
     "end_time": "2025-03-15T10:47:20.617366",
     "exception": false,
     "start_time": "2025-03-15T10:47:17.957797",
     "status": "completed"
    },
    "tags": []
   },
   "outputs": [],
   "source": [
    "import numpy as np\n",
    "import pandas as pd\n",
    "import matplotlib.pyplot as plt\n",
    "import seaborn as sns\n",
    "from sklearn.model_selection import train_test_split\n",
    "from sklearn.linear_model import LinearRegression\n",
    "from sklearn.metrics import mean_squared_error, r2_score\n",
    "from xgboost import XGBRegressor\n",
    "from sklearn import metrics\n"
   ]
  },
  {
   "cell_type": "code",
   "execution_count": 3,
   "id": "da7f64e1",
   "metadata": {
    "execution": {
     "iopub.execute_input": "2025-03-15T10:47:20.630166Z",
     "iopub.status.busy": "2025-03-15T10:47:20.629608Z",
     "iopub.status.idle": "2025-03-15T10:47:20.678737Z",
     "shell.execute_reply": "2025-03-15T10:47:20.677658Z"
    },
    "papermill": {
     "duration": 0.057509,
     "end_time": "2025-03-15T10:47:20.680584",
     "exception": false,
     "start_time": "2025-03-15T10:47:20.623075",
     "status": "completed"
    },
    "tags": []
   },
   "outputs": [
    {
     "data": {
      "text/html": [
       "<div>\n",
       "<style scoped>\n",
       "    .dataframe tbody tr th:only-of-type {\n",
       "        vertical-align: middle;\n",
       "    }\n",
       "\n",
       "    .dataframe tbody tr th {\n",
       "        vertical-align: top;\n",
       "    }\n",
       "\n",
       "    .dataframe thead th {\n",
       "        text-align: right;\n",
       "    }\n",
       "</style>\n",
       "<table border=\"1\" class=\"dataframe\">\n",
       "  <thead>\n",
       "    <tr style=\"text-align: right;\">\n",
       "      <th></th>\n",
       "      <th>crim</th>\n",
       "      <th>zn</th>\n",
       "      <th>indus</th>\n",
       "      <th>chas</th>\n",
       "      <th>nox</th>\n",
       "      <th>rm</th>\n",
       "      <th>age</th>\n",
       "      <th>dis</th>\n",
       "      <th>rad</th>\n",
       "      <th>tax</th>\n",
       "      <th>ptratio</th>\n",
       "      <th>b</th>\n",
       "      <th>lstat</th>\n",
       "      <th>medv</th>\n",
       "    </tr>\n",
       "  </thead>\n",
       "  <tbody>\n",
       "    <tr>\n",
       "      <th>0</th>\n",
       "      <td>0.00632</td>\n",
       "      <td>18.0</td>\n",
       "      <td>2.31</td>\n",
       "      <td>0</td>\n",
       "      <td>0.538</td>\n",
       "      <td>6.575</td>\n",
       "      <td>65.2</td>\n",
       "      <td>4.0900</td>\n",
       "      <td>1</td>\n",
       "      <td>296</td>\n",
       "      <td>15.3</td>\n",
       "      <td>396.90</td>\n",
       "      <td>4.98</td>\n",
       "      <td>24.0</td>\n",
       "    </tr>\n",
       "    <tr>\n",
       "      <th>1</th>\n",
       "      <td>0.02731</td>\n",
       "      <td>0.0</td>\n",
       "      <td>7.07</td>\n",
       "      <td>0</td>\n",
       "      <td>0.469</td>\n",
       "      <td>6.421</td>\n",
       "      <td>78.9</td>\n",
       "      <td>4.9671</td>\n",
       "      <td>2</td>\n",
       "      <td>242</td>\n",
       "      <td>17.8</td>\n",
       "      <td>396.90</td>\n",
       "      <td>9.14</td>\n",
       "      <td>21.6</td>\n",
       "    </tr>\n",
       "    <tr>\n",
       "      <th>2</th>\n",
       "      <td>0.02729</td>\n",
       "      <td>0.0</td>\n",
       "      <td>7.07</td>\n",
       "      <td>0</td>\n",
       "      <td>0.469</td>\n",
       "      <td>7.185</td>\n",
       "      <td>61.1</td>\n",
       "      <td>4.9671</td>\n",
       "      <td>2</td>\n",
       "      <td>242</td>\n",
       "      <td>17.8</td>\n",
       "      <td>392.83</td>\n",
       "      <td>4.03</td>\n",
       "      <td>34.7</td>\n",
       "    </tr>\n",
       "    <tr>\n",
       "      <th>3</th>\n",
       "      <td>0.03237</td>\n",
       "      <td>0.0</td>\n",
       "      <td>2.18</td>\n",
       "      <td>0</td>\n",
       "      <td>0.458</td>\n",
       "      <td>6.998</td>\n",
       "      <td>45.8</td>\n",
       "      <td>6.0622</td>\n",
       "      <td>3</td>\n",
       "      <td>222</td>\n",
       "      <td>18.7</td>\n",
       "      <td>394.63</td>\n",
       "      <td>2.94</td>\n",
       "      <td>33.4</td>\n",
       "    </tr>\n",
       "    <tr>\n",
       "      <th>4</th>\n",
       "      <td>0.06905</td>\n",
       "      <td>0.0</td>\n",
       "      <td>2.18</td>\n",
       "      <td>0</td>\n",
       "      <td>0.458</td>\n",
       "      <td>7.147</td>\n",
       "      <td>54.2</td>\n",
       "      <td>6.0622</td>\n",
       "      <td>3</td>\n",
       "      <td>222</td>\n",
       "      <td>18.7</td>\n",
       "      <td>396.90</td>\n",
       "      <td>5.33</td>\n",
       "      <td>36.2</td>\n",
       "    </tr>\n",
       "  </tbody>\n",
       "</table>\n",
       "</div>"
      ],
      "text/plain": [
       "      crim    zn  indus  chas    nox     rm   age     dis  rad  tax  ptratio  \\\n",
       "0  0.00632  18.0   2.31     0  0.538  6.575  65.2  4.0900    1  296     15.3   \n",
       "1  0.02731   0.0   7.07     0  0.469  6.421  78.9  4.9671    2  242     17.8   \n",
       "2  0.02729   0.0   7.07     0  0.469  7.185  61.1  4.9671    2  242     17.8   \n",
       "3  0.03237   0.0   2.18     0  0.458  6.998  45.8  6.0622    3  222     18.7   \n",
       "4  0.06905   0.0   2.18     0  0.458  7.147  54.2  6.0622    3  222     18.7   \n",
       "\n",
       "        b  lstat  medv  \n",
       "0  396.90   4.98  24.0  \n",
       "1  396.90   9.14  21.6  \n",
       "2  392.83   4.03  34.7  \n",
       "3  394.63   2.94  33.4  \n",
       "4  396.90   5.33  36.2  "
      ]
     },
     "execution_count": 3,
     "metadata": {},
     "output_type": "execute_result"
    }
   ],
   "source": [
    "df = pd.read_csv('/kaggle/input/bostonhousing/BostonHousing.csv')  \n",
    "df.head()"
   ]
  },
  {
   "cell_type": "code",
   "execution_count": 4,
   "id": "0b1da20b",
   "metadata": {
    "execution": {
     "iopub.execute_input": "2025-03-15T10:47:20.693937Z",
     "iopub.status.busy": "2025-03-15T10:47:20.693532Z",
     "iopub.status.idle": "2025-03-15T10:47:20.712471Z",
     "shell.execute_reply": "2025-03-15T10:47:20.711278Z"
    },
    "papermill": {
     "duration": 0.027496,
     "end_time": "2025-03-15T10:47:20.714273",
     "exception": false,
     "start_time": "2025-03-15T10:47:20.686777",
     "status": "completed"
    },
    "tags": []
   },
   "outputs": [
    {
     "data": {
      "text/html": [
       "<div>\n",
       "<style scoped>\n",
       "    .dataframe tbody tr th:only-of-type {\n",
       "        vertical-align: middle;\n",
       "    }\n",
       "\n",
       "    .dataframe tbody tr th {\n",
       "        vertical-align: top;\n",
       "    }\n",
       "\n",
       "    .dataframe thead th {\n",
       "        text-align: right;\n",
       "    }\n",
       "</style>\n",
       "<table border=\"1\" class=\"dataframe\">\n",
       "  <thead>\n",
       "    <tr style=\"text-align: right;\">\n",
       "      <th></th>\n",
       "      <th>crim</th>\n",
       "      <th>zn</th>\n",
       "      <th>indus</th>\n",
       "      <th>chas</th>\n",
       "      <th>nox</th>\n",
       "      <th>rm</th>\n",
       "      <th>age</th>\n",
       "      <th>dis</th>\n",
       "      <th>rad</th>\n",
       "      <th>tax</th>\n",
       "      <th>ptratio</th>\n",
       "      <th>b</th>\n",
       "      <th>lstat</th>\n",
       "      <th>medv</th>\n",
       "    </tr>\n",
       "  </thead>\n",
       "  <tbody>\n",
       "    <tr>\n",
       "      <th>501</th>\n",
       "      <td>0.06263</td>\n",
       "      <td>0.0</td>\n",
       "      <td>11.93</td>\n",
       "      <td>0</td>\n",
       "      <td>0.573</td>\n",
       "      <td>6.593</td>\n",
       "      <td>69.1</td>\n",
       "      <td>2.4786</td>\n",
       "      <td>1</td>\n",
       "      <td>273</td>\n",
       "      <td>21.0</td>\n",
       "      <td>391.99</td>\n",
       "      <td>9.67</td>\n",
       "      <td>22.4</td>\n",
       "    </tr>\n",
       "    <tr>\n",
       "      <th>502</th>\n",
       "      <td>0.04527</td>\n",
       "      <td>0.0</td>\n",
       "      <td>11.93</td>\n",
       "      <td>0</td>\n",
       "      <td>0.573</td>\n",
       "      <td>6.120</td>\n",
       "      <td>76.7</td>\n",
       "      <td>2.2875</td>\n",
       "      <td>1</td>\n",
       "      <td>273</td>\n",
       "      <td>21.0</td>\n",
       "      <td>396.90</td>\n",
       "      <td>9.08</td>\n",
       "      <td>20.6</td>\n",
       "    </tr>\n",
       "    <tr>\n",
       "      <th>503</th>\n",
       "      <td>0.06076</td>\n",
       "      <td>0.0</td>\n",
       "      <td>11.93</td>\n",
       "      <td>0</td>\n",
       "      <td>0.573</td>\n",
       "      <td>6.976</td>\n",
       "      <td>91.0</td>\n",
       "      <td>2.1675</td>\n",
       "      <td>1</td>\n",
       "      <td>273</td>\n",
       "      <td>21.0</td>\n",
       "      <td>396.90</td>\n",
       "      <td>5.64</td>\n",
       "      <td>23.9</td>\n",
       "    </tr>\n",
       "    <tr>\n",
       "      <th>504</th>\n",
       "      <td>0.10959</td>\n",
       "      <td>0.0</td>\n",
       "      <td>11.93</td>\n",
       "      <td>0</td>\n",
       "      <td>0.573</td>\n",
       "      <td>6.794</td>\n",
       "      <td>89.3</td>\n",
       "      <td>2.3889</td>\n",
       "      <td>1</td>\n",
       "      <td>273</td>\n",
       "      <td>21.0</td>\n",
       "      <td>393.45</td>\n",
       "      <td>6.48</td>\n",
       "      <td>22.0</td>\n",
       "    </tr>\n",
       "    <tr>\n",
       "      <th>505</th>\n",
       "      <td>0.04741</td>\n",
       "      <td>0.0</td>\n",
       "      <td>11.93</td>\n",
       "      <td>0</td>\n",
       "      <td>0.573</td>\n",
       "      <td>6.030</td>\n",
       "      <td>80.8</td>\n",
       "      <td>2.5050</td>\n",
       "      <td>1</td>\n",
       "      <td>273</td>\n",
       "      <td>21.0</td>\n",
       "      <td>396.90</td>\n",
       "      <td>7.88</td>\n",
       "      <td>11.9</td>\n",
       "    </tr>\n",
       "  </tbody>\n",
       "</table>\n",
       "</div>"
      ],
      "text/plain": [
       "        crim   zn  indus  chas    nox     rm   age     dis  rad  tax  ptratio  \\\n",
       "501  0.06263  0.0  11.93     0  0.573  6.593  69.1  2.4786    1  273     21.0   \n",
       "502  0.04527  0.0  11.93     0  0.573  6.120  76.7  2.2875    1  273     21.0   \n",
       "503  0.06076  0.0  11.93     0  0.573  6.976  91.0  2.1675    1  273     21.0   \n",
       "504  0.10959  0.0  11.93     0  0.573  6.794  89.3  2.3889    1  273     21.0   \n",
       "505  0.04741  0.0  11.93     0  0.573  6.030  80.8  2.5050    1  273     21.0   \n",
       "\n",
       "          b  lstat  medv  \n",
       "501  391.99   9.67  22.4  \n",
       "502  396.90   9.08  20.6  \n",
       "503  396.90   5.64  23.9  \n",
       "504  393.45   6.48  22.0  \n",
       "505  396.90   7.88  11.9  "
      ]
     },
     "execution_count": 4,
     "metadata": {},
     "output_type": "execute_result"
    }
   ],
   "source": [
    "df.tail()"
   ]
  },
  {
   "cell_type": "code",
   "execution_count": 5,
   "id": "1b18c1a8",
   "metadata": {
    "execution": {
     "iopub.execute_input": "2025-03-15T10:47:20.727672Z",
     "iopub.status.busy": "2025-03-15T10:47:20.727257Z",
     "iopub.status.idle": "2025-03-15T10:47:20.755629Z",
     "shell.execute_reply": "2025-03-15T10:47:20.754413Z"
    },
    "papermill": {
     "duration": 0.037025,
     "end_time": "2025-03-15T10:47:20.757343",
     "exception": false,
     "start_time": "2025-03-15T10:47:20.720318",
     "status": "completed"
    },
    "tags": []
   },
   "outputs": [
    {
     "name": "stdout",
     "output_type": "stream",
     "text": [
      "<class 'pandas.core.frame.DataFrame'>\n",
      "RangeIndex: 506 entries, 0 to 505\n",
      "Data columns (total 14 columns):\n",
      " #   Column   Non-Null Count  Dtype  \n",
      "---  ------   --------------  -----  \n",
      " 0   crim     506 non-null    float64\n",
      " 1   zn       506 non-null    float64\n",
      " 2   indus    506 non-null    float64\n",
      " 3   chas     506 non-null    int64  \n",
      " 4   nox      506 non-null    float64\n",
      " 5   rm       506 non-null    float64\n",
      " 6   age      506 non-null    float64\n",
      " 7   dis      506 non-null    float64\n",
      " 8   rad      506 non-null    int64  \n",
      " 9   tax      506 non-null    int64  \n",
      " 10  ptratio  506 non-null    float64\n",
      " 11  b        506 non-null    float64\n",
      " 12  lstat    506 non-null    float64\n",
      " 13  medv     506 non-null    float64\n",
      "dtypes: float64(11), int64(3)\n",
      "memory usage: 55.5 KB\n"
     ]
    }
   ],
   "source": [
    "df.info()"
   ]
  },
  {
   "cell_type": "code",
   "execution_count": 6,
   "id": "b3bea9df",
   "metadata": {
    "execution": {
     "iopub.execute_input": "2025-03-15T10:47:20.770968Z",
     "iopub.status.busy": "2025-03-15T10:47:20.770561Z",
     "iopub.status.idle": "2025-03-15T10:47:20.813518Z",
     "shell.execute_reply": "2025-03-15T10:47:20.812360Z"
    },
    "papermill": {
     "duration": 0.051667,
     "end_time": "2025-03-15T10:47:20.815294",
     "exception": false,
     "start_time": "2025-03-15T10:47:20.763627",
     "status": "completed"
    },
    "tags": []
   },
   "outputs": [
    {
     "data": {
      "text/html": [
       "<div>\n",
       "<style scoped>\n",
       "    .dataframe tbody tr th:only-of-type {\n",
       "        vertical-align: middle;\n",
       "    }\n",
       "\n",
       "    .dataframe tbody tr th {\n",
       "        vertical-align: top;\n",
       "    }\n",
       "\n",
       "    .dataframe thead th {\n",
       "        text-align: right;\n",
       "    }\n",
       "</style>\n",
       "<table border=\"1\" class=\"dataframe\">\n",
       "  <thead>\n",
       "    <tr style=\"text-align: right;\">\n",
       "      <th></th>\n",
       "      <th>crim</th>\n",
       "      <th>zn</th>\n",
       "      <th>indus</th>\n",
       "      <th>chas</th>\n",
       "      <th>nox</th>\n",
       "      <th>rm</th>\n",
       "      <th>age</th>\n",
       "      <th>dis</th>\n",
       "      <th>rad</th>\n",
       "      <th>tax</th>\n",
       "      <th>ptratio</th>\n",
       "      <th>b</th>\n",
       "      <th>lstat</th>\n",
       "      <th>medv</th>\n",
       "    </tr>\n",
       "  </thead>\n",
       "  <tbody>\n",
       "    <tr>\n",
       "      <th>count</th>\n",
       "      <td>506.000000</td>\n",
       "      <td>506.000000</td>\n",
       "      <td>506.000000</td>\n",
       "      <td>506.000000</td>\n",
       "      <td>506.000000</td>\n",
       "      <td>506.000000</td>\n",
       "      <td>506.000000</td>\n",
       "      <td>506.000000</td>\n",
       "      <td>506.000000</td>\n",
       "      <td>506.000000</td>\n",
       "      <td>506.000000</td>\n",
       "      <td>506.000000</td>\n",
       "      <td>506.000000</td>\n",
       "      <td>506.000000</td>\n",
       "    </tr>\n",
       "    <tr>\n",
       "      <th>mean</th>\n",
       "      <td>3.613524</td>\n",
       "      <td>11.363636</td>\n",
       "      <td>11.136779</td>\n",
       "      <td>0.069170</td>\n",
       "      <td>0.554695</td>\n",
       "      <td>6.284634</td>\n",
       "      <td>68.574901</td>\n",
       "      <td>3.795043</td>\n",
       "      <td>9.549407</td>\n",
       "      <td>408.237154</td>\n",
       "      <td>18.455534</td>\n",
       "      <td>356.674032</td>\n",
       "      <td>12.653063</td>\n",
       "      <td>22.532806</td>\n",
       "    </tr>\n",
       "    <tr>\n",
       "      <th>std</th>\n",
       "      <td>8.601545</td>\n",
       "      <td>23.322453</td>\n",
       "      <td>6.860353</td>\n",
       "      <td>0.253994</td>\n",
       "      <td>0.115878</td>\n",
       "      <td>0.702617</td>\n",
       "      <td>28.148861</td>\n",
       "      <td>2.105710</td>\n",
       "      <td>8.707259</td>\n",
       "      <td>168.537116</td>\n",
       "      <td>2.164946</td>\n",
       "      <td>91.294864</td>\n",
       "      <td>7.141062</td>\n",
       "      <td>9.197104</td>\n",
       "    </tr>\n",
       "    <tr>\n",
       "      <th>min</th>\n",
       "      <td>0.006320</td>\n",
       "      <td>0.000000</td>\n",
       "      <td>0.460000</td>\n",
       "      <td>0.000000</td>\n",
       "      <td>0.385000</td>\n",
       "      <td>3.561000</td>\n",
       "      <td>2.900000</td>\n",
       "      <td>1.129600</td>\n",
       "      <td>1.000000</td>\n",
       "      <td>187.000000</td>\n",
       "      <td>12.600000</td>\n",
       "      <td>0.320000</td>\n",
       "      <td>1.730000</td>\n",
       "      <td>5.000000</td>\n",
       "    </tr>\n",
       "    <tr>\n",
       "      <th>25%</th>\n",
       "      <td>0.082045</td>\n",
       "      <td>0.000000</td>\n",
       "      <td>5.190000</td>\n",
       "      <td>0.000000</td>\n",
       "      <td>0.449000</td>\n",
       "      <td>5.885500</td>\n",
       "      <td>45.025000</td>\n",
       "      <td>2.100175</td>\n",
       "      <td>4.000000</td>\n",
       "      <td>279.000000</td>\n",
       "      <td>17.400000</td>\n",
       "      <td>375.377500</td>\n",
       "      <td>6.950000</td>\n",
       "      <td>17.025000</td>\n",
       "    </tr>\n",
       "    <tr>\n",
       "      <th>50%</th>\n",
       "      <td>0.256510</td>\n",
       "      <td>0.000000</td>\n",
       "      <td>9.690000</td>\n",
       "      <td>0.000000</td>\n",
       "      <td>0.538000</td>\n",
       "      <td>6.208500</td>\n",
       "      <td>77.500000</td>\n",
       "      <td>3.207450</td>\n",
       "      <td>5.000000</td>\n",
       "      <td>330.000000</td>\n",
       "      <td>19.050000</td>\n",
       "      <td>391.440000</td>\n",
       "      <td>11.360000</td>\n",
       "      <td>21.200000</td>\n",
       "    </tr>\n",
       "    <tr>\n",
       "      <th>75%</th>\n",
       "      <td>3.677083</td>\n",
       "      <td>12.500000</td>\n",
       "      <td>18.100000</td>\n",
       "      <td>0.000000</td>\n",
       "      <td>0.624000</td>\n",
       "      <td>6.623500</td>\n",
       "      <td>94.075000</td>\n",
       "      <td>5.188425</td>\n",
       "      <td>24.000000</td>\n",
       "      <td>666.000000</td>\n",
       "      <td>20.200000</td>\n",
       "      <td>396.225000</td>\n",
       "      <td>16.955000</td>\n",
       "      <td>25.000000</td>\n",
       "    </tr>\n",
       "    <tr>\n",
       "      <th>max</th>\n",
       "      <td>88.976200</td>\n",
       "      <td>100.000000</td>\n",
       "      <td>27.740000</td>\n",
       "      <td>1.000000</td>\n",
       "      <td>0.871000</td>\n",
       "      <td>8.780000</td>\n",
       "      <td>100.000000</td>\n",
       "      <td>12.126500</td>\n",
       "      <td>24.000000</td>\n",
       "      <td>711.000000</td>\n",
       "      <td>22.000000</td>\n",
       "      <td>396.900000</td>\n",
       "      <td>37.970000</td>\n",
       "      <td>50.000000</td>\n",
       "    </tr>\n",
       "  </tbody>\n",
       "</table>\n",
       "</div>"
      ],
      "text/plain": [
       "             crim          zn       indus        chas         nox          rm  \\\n",
       "count  506.000000  506.000000  506.000000  506.000000  506.000000  506.000000   \n",
       "mean     3.613524   11.363636   11.136779    0.069170    0.554695    6.284634   \n",
       "std      8.601545   23.322453    6.860353    0.253994    0.115878    0.702617   \n",
       "min      0.006320    0.000000    0.460000    0.000000    0.385000    3.561000   \n",
       "25%      0.082045    0.000000    5.190000    0.000000    0.449000    5.885500   \n",
       "50%      0.256510    0.000000    9.690000    0.000000    0.538000    6.208500   \n",
       "75%      3.677083   12.500000   18.100000    0.000000    0.624000    6.623500   \n",
       "max     88.976200  100.000000   27.740000    1.000000    0.871000    8.780000   \n",
       "\n",
       "              age         dis         rad         tax     ptratio           b  \\\n",
       "count  506.000000  506.000000  506.000000  506.000000  506.000000  506.000000   \n",
       "mean    68.574901    3.795043    9.549407  408.237154   18.455534  356.674032   \n",
       "std     28.148861    2.105710    8.707259  168.537116    2.164946   91.294864   \n",
       "min      2.900000    1.129600    1.000000  187.000000   12.600000    0.320000   \n",
       "25%     45.025000    2.100175    4.000000  279.000000   17.400000  375.377500   \n",
       "50%     77.500000    3.207450    5.000000  330.000000   19.050000  391.440000   \n",
       "75%     94.075000    5.188425   24.000000  666.000000   20.200000  396.225000   \n",
       "max    100.000000   12.126500   24.000000  711.000000   22.000000  396.900000   \n",
       "\n",
       "            lstat        medv  \n",
       "count  506.000000  506.000000  \n",
       "mean    12.653063   22.532806  \n",
       "std      7.141062    9.197104  \n",
       "min      1.730000    5.000000  \n",
       "25%      6.950000   17.025000  \n",
       "50%     11.360000   21.200000  \n",
       "75%     16.955000   25.000000  \n",
       "max     37.970000   50.000000  "
      ]
     },
     "execution_count": 6,
     "metadata": {},
     "output_type": "execute_result"
    }
   ],
   "source": [
    "df.describe()"
   ]
  },
  {
   "cell_type": "code",
   "execution_count": 7,
   "id": "c9d90bd4",
   "metadata": {
    "execution": {
     "iopub.execute_input": "2025-03-15T10:47:20.832503Z",
     "iopub.status.busy": "2025-03-15T10:47:20.832114Z",
     "iopub.status.idle": "2025-03-15T10:47:20.841719Z",
     "shell.execute_reply": "2025-03-15T10:47:20.840593Z"
    },
    "papermill": {
     "duration": 0.021216,
     "end_time": "2025-03-15T10:47:20.843605",
     "exception": false,
     "start_time": "2025-03-15T10:47:20.822389",
     "status": "completed"
    },
    "tags": []
   },
   "outputs": [
    {
     "data": {
      "text/plain": [
       "0"
      ]
     },
     "execution_count": 7,
     "metadata": {},
     "output_type": "execute_result"
    }
   ],
   "source": [
    "df.duplicated().sum()"
   ]
  },
  {
   "cell_type": "code",
   "execution_count": 8,
   "id": "f20fb4ae",
   "metadata": {
    "execution": {
     "iopub.execute_input": "2025-03-15T10:47:20.857912Z",
     "iopub.status.busy": "2025-03-15T10:47:20.857502Z",
     "iopub.status.idle": "2025-03-15T10:47:20.863613Z",
     "shell.execute_reply": "2025-03-15T10:47:20.862505Z"
    },
    "papermill": {
     "duration": 0.015045,
     "end_time": "2025-03-15T10:47:20.865229",
     "exception": false,
     "start_time": "2025-03-15T10:47:20.850184",
     "status": "completed"
    },
    "tags": []
   },
   "outputs": [
    {
     "data": {
      "text/plain": [
       "(506, 14)"
      ]
     },
     "execution_count": 8,
     "metadata": {},
     "output_type": "execute_result"
    }
   ],
   "source": [
    "df.shape"
   ]
  },
  {
   "cell_type": "code",
   "execution_count": 9,
   "id": "630853a9",
   "metadata": {
    "execution": {
     "iopub.execute_input": "2025-03-15T10:47:20.879539Z",
     "iopub.status.busy": "2025-03-15T10:47:20.879150Z",
     "iopub.status.idle": "2025-03-15T10:47:20.887364Z",
     "shell.execute_reply": "2025-03-15T10:47:20.885966Z"
    },
    "papermill": {
     "duration": 0.01739,
     "end_time": "2025-03-15T10:47:20.889303",
     "exception": false,
     "start_time": "2025-03-15T10:47:20.871913",
     "status": "completed"
    },
    "tags": []
   },
   "outputs": [
    {
     "data": {
      "text/plain": [
       "crim       0\n",
       "zn         0\n",
       "indus      0\n",
       "chas       0\n",
       "nox        0\n",
       "rm         0\n",
       "age        0\n",
       "dis        0\n",
       "rad        0\n",
       "tax        0\n",
       "ptratio    0\n",
       "b          0\n",
       "lstat      0\n",
       "medv       0\n",
       "dtype: int64"
      ]
     },
     "execution_count": 9,
     "metadata": {},
     "output_type": "execute_result"
    }
   ],
   "source": [
    "df.isnull().sum()"
   ]
  },
  {
   "cell_type": "markdown",
   "id": "d198b8c1",
   "metadata": {
    "papermill": {
     "duration": 0.006138,
     "end_time": "2025-03-15T10:47:20.902207",
     "exception": false,
     "start_time": "2025-03-15T10:47:20.896069",
     "status": "completed"
    },
    "tags": []
   },
   "source": [
    "# Correlation"
   ]
  },
  {
   "cell_type": "code",
   "execution_count": 10,
   "id": "f72c5843",
   "metadata": {
    "execution": {
     "iopub.execute_input": "2025-03-15T10:47:20.917035Z",
     "iopub.status.busy": "2025-03-15T10:47:20.916625Z",
     "iopub.status.idle": "2025-03-15T10:47:20.931410Z",
     "shell.execute_reply": "2025-03-15T10:47:20.929962Z"
    },
    "papermill": {
     "duration": 0.024649,
     "end_time": "2025-03-15T10:47:20.933362",
     "exception": false,
     "start_time": "2025-03-15T10:47:20.908713",
     "status": "completed"
    },
    "tags": []
   },
   "outputs": [
    {
     "name": "stdout",
     "output_type": "stream",
     "text": [
      "             crim        zn     indus      chas       nox        rm       age  \\\n",
      "crim     1.000000 -0.200469  0.406583 -0.055892  0.420972 -0.219247  0.352734   \n",
      "zn      -0.200469  1.000000 -0.533828 -0.042697 -0.516604  0.311991 -0.569537   \n",
      "indus    0.406583 -0.533828  1.000000  0.062938  0.763651 -0.391676  0.644779   \n",
      "chas    -0.055892 -0.042697  0.062938  1.000000  0.091203  0.091251  0.086518   \n",
      "nox      0.420972 -0.516604  0.763651  0.091203  1.000000 -0.302188  0.731470   \n",
      "rm      -0.219247  0.311991 -0.391676  0.091251 -0.302188  1.000000 -0.240265   \n",
      "age      0.352734 -0.569537  0.644779  0.086518  0.731470 -0.240265  1.000000   \n",
      "dis     -0.379670  0.664408 -0.708027 -0.099176 -0.769230  0.205246 -0.747881   \n",
      "rad      0.625505 -0.311948  0.595129 -0.007368  0.611441 -0.209847  0.456022   \n",
      "tax      0.582764 -0.314563  0.720760 -0.035587  0.668023 -0.292048  0.506456   \n",
      "ptratio  0.289946 -0.391679  0.383248 -0.121515  0.188933 -0.355501  0.261515   \n",
      "b       -0.385064  0.175520 -0.356977  0.048788 -0.380051  0.128069 -0.273534   \n",
      "lstat    0.455621 -0.412995  0.603800 -0.053929  0.590879 -0.613808  0.602339   \n",
      "medv    -0.388305  0.360445 -0.483725  0.175260 -0.427321  0.695360 -0.376955   \n",
      "\n",
      "              dis       rad       tax   ptratio         b     lstat      medv  \n",
      "crim    -0.379670  0.625505  0.582764  0.289946 -0.385064  0.455621 -0.388305  \n",
      "zn       0.664408 -0.311948 -0.314563 -0.391679  0.175520 -0.412995  0.360445  \n",
      "indus   -0.708027  0.595129  0.720760  0.383248 -0.356977  0.603800 -0.483725  \n",
      "chas    -0.099176 -0.007368 -0.035587 -0.121515  0.048788 -0.053929  0.175260  \n",
      "nox     -0.769230  0.611441  0.668023  0.188933 -0.380051  0.590879 -0.427321  \n",
      "rm       0.205246 -0.209847 -0.292048 -0.355501  0.128069 -0.613808  0.695360  \n",
      "age     -0.747881  0.456022  0.506456  0.261515 -0.273534  0.602339 -0.376955  \n",
      "dis      1.000000 -0.494588 -0.534432 -0.232471  0.291512 -0.496996  0.249929  \n",
      "rad     -0.494588  1.000000  0.910228  0.464741 -0.444413  0.488676 -0.381626  \n",
      "tax     -0.534432  0.910228  1.000000  0.460853 -0.441808  0.543993 -0.468536  \n",
      "ptratio -0.232471  0.464741  0.460853  1.000000 -0.177383  0.374044 -0.507787  \n",
      "b        0.291512 -0.444413 -0.441808 -0.177383  1.000000 -0.366087  0.333461  \n",
      "lstat   -0.496996  0.488676  0.543993  0.374044 -0.366087  1.000000 -0.737663  \n",
      "medv     0.249929 -0.381626 -0.468536 -0.507787  0.333461 -0.737663  1.000000  \n"
     ]
    }
   ],
   "source": [
    "correlation = df.corr()\n",
    "print(correlation)"
   ]
  },
  {
   "cell_type": "code",
   "execution_count": 11,
   "id": "93f0f7fa",
   "metadata": {
    "execution": {
     "iopub.execute_input": "2025-03-15T10:47:20.947981Z",
     "iopub.status.busy": "2025-03-15T10:47:20.947559Z",
     "iopub.status.idle": "2025-03-15T10:47:21.878163Z",
     "shell.execute_reply": "2025-03-15T10:47:21.876957Z"
    },
    "papermill": {
     "duration": 0.940942,
     "end_time": "2025-03-15T10:47:21.881021",
     "exception": false,
     "start_time": "2025-03-15T10:47:20.940079",
     "status": "completed"
    },
    "tags": []
   },
   "outputs": [
    {
     "data": {
      "image/png": "[encoded data removed]",
      "text/plain": [
       "<Figure size 1200x600 with 2 Axes>"
      ]
     },
     "metadata": {},
     "output_type": "display_data"
    }
   ],
   "source": [
    "#construct heatmap\n",
    "plt.figure(figsize=(12,6))\n",
    "sns.heatmap(correlation, annot=True, cmap=\"Blues\")  # Show numbers & use nice colors\n",
    "plt.show()\n",
    "#annot=True: This writes the numbers inside the boxes so we can read them."
   ]
  },
  {
   "cell_type": "code",
   "execution_count": 12,
   "id": "798083a2",
   "metadata": {
    "execution": {
     "iopub.execute_input": "2025-03-15T10:47:21.903252Z",
     "iopub.status.busy": "2025-03-15T10:47:21.902828Z",
     "iopub.status.idle": "2025-03-15T10:47:21.908465Z",
     "shell.execute_reply": "2025-03-15T10:47:21.907378Z"
    },
    "papermill": {
     "duration": 0.018407,
     "end_time": "2025-03-15T10:47:21.910243",
     "exception": false,
     "start_time": "2025-03-15T10:47:21.891836",
     "status": "completed"
    },
    "tags": []
   },
   "outputs": [],
   "source": [
    "#splitting the data into target and labels\n",
    "X=df.drop([\"medv\"],axis=1)\n",
    "Y=df[\"medv\"]\n",
    "#X (features) = Everything except the price.\n",
    "#X = Size, Bedrooms, Location (because these help predict price).\n",
    "#Y (target) = The thing we want to predict: Price ($).\n",
    "#We remove the price column (\"medv\") from X because we don’t want to use it as an input.\n",
    "#We store the price column in Y because that's what we want to predict."
   ]
  },
  {
   "cell_type": "code",
   "execution_count": 13,
   "id": "d1064a9b",
   "metadata": {
    "execution": {
     "iopub.execute_input": "2025-03-15T10:47:21.932102Z",
     "iopub.status.busy": "2025-03-15T10:47:21.931672Z",
     "iopub.status.idle": "2025-03-15T10:47:21.939065Z",
     "shell.execute_reply": "2025-03-15T10:47:21.937950Z"
    },
    "papermill": {
     "duration": 0.020435,
     "end_time": "2025-03-15T10:47:21.940935",
     "exception": false,
     "start_time": "2025-03-15T10:47:21.920500",
     "status": "completed"
    },
    "tags": []
   },
   "outputs": [],
   "source": [
    "#splitting the data into training and test data\n",
    "X_train,X_test,Y_train,Y_test=train_test_split(X,Y,test_size=0.2,random_state=2) \n",
    "#This code is splitting the data into two parts:\n",
    "#Training data (used to learn)\n",
    "#Testing data (used to check if the learning is good)\n",
    "#train_test_split(X, Y, test_size=0.2, random_state=2)\n",
    "#X = All house details (size, rooms, etc.)\n",
    "#Y = The price of the house (what we want to predict)\n",
    "#test_size=0.2 → 20% of the data is saved for testing.\n",
    "#random_state=2 → Makes sure the split is always the same when you run it."
   ]
  },
  {
   "cell_type": "code",
   "execution_count": 14,
   "id": "7a7df7fd",
   "metadata": {
    "execution": {
     "iopub.execute_input": "2025-03-15T10:47:21.963596Z",
     "iopub.status.busy": "2025-03-15T10:47:21.963197Z",
     "iopub.status.idle": "2025-03-15T10:47:21.969375Z",
     "shell.execute_reply": "2025-03-15T10:47:21.968270Z"
    },
    "papermill": {
     "duration": 0.020097,
     "end_time": "2025-03-15T10:47:21.971439",
     "exception": false,
     "start_time": "2025-03-15T10:47:21.951342",
     "status": "completed"
    },
    "tags": []
   },
   "outputs": [
    {
     "name": "stdout",
     "output_type": "stream",
     "text": [
      "(506, 13) (404, 13) (102, 13)\n"
     ]
    }
   ],
   "source": [
    "print(X.shape,X_train.shape,X_test.shape)"
   ]
  },
  {
   "cell_type": "markdown",
   "id": "808dd938",
   "metadata": {
    "papermill": {
     "duration": 0.010692,
     "end_time": "2025-03-15T10:47:21.992515",
     "exception": false,
     "start_time": "2025-03-15T10:47:21.981823",
     "status": "completed"
    },
    "tags": []
   },
   "source": [
    "# Model traning using XGB regression"
   ]
  },
  {
   "cell_type": "code",
   "execution_count": 15,
   "id": "451e2c80",
   "metadata": {
    "execution": {
     "iopub.execute_input": "2025-03-15T10:47:22.018576Z",
     "iopub.status.busy": "2025-03-15T10:47:22.018000Z",
     "iopub.status.idle": "2025-03-15T10:47:22.023975Z",
     "shell.execute_reply": "2025-03-15T10:47:22.022515Z"
    },
    "papermill": {
     "duration": 0.021639,
     "end_time": "2025-03-15T10:47:22.025893",
     "exception": false,
     "start_time": "2025-03-15T10:47:22.004254",
     "status": "completed"
    },
    "tags": []
   },
   "outputs": [],
   "source": [
    "model = XGBRegressor()   \n",
    "#This makes an XGBRegressor model, which is like a super-smart math wizard\n",
    "#that learns from data and makes price predictions.\n",
    "#Simple Analogy:\n",
    "#Think of this like teaching a kid to guess prices of toys:\n",
    "\n",
    "#Show them different toys with prices → (Training data) \n",
    "#They learn which toys cost more or less.\n",
    "#Now, give them a new toy and ask its price → (Prediction time!)"
   ]
  },
  {
   "cell_type": "code",
   "execution_count": 16,
   "id": "1ede6d5c",
   "metadata": {
    "execution": {
     "iopub.execute_input": "2025-03-15T10:47:22.055259Z",
     "iopub.status.busy": "2025-03-15T10:47:22.054842Z",
     "iopub.status.idle": "2025-03-15T10:47:22.407701Z",
     "shell.execute_reply": "2025-03-15T10:47:22.406827Z"
    },
    "papermill": {
     "duration": 0.36779,
     "end_time": "2025-03-15T10:47:22.409820",
     "exception": false,
     "start_time": "2025-03-15T10:47:22.042030",
     "status": "completed"
    },
    "tags": []
   },
   "outputs": [
    {
     "data": {
      "text/html": [
       "<style>#sk-container-id-1 {color: black;background-color: white;}#sk-container-id-1 pre{padding: 0;}#sk-container-id-1 div.sk-toggleable {background-color: white;}#sk-container-id-1 label.sk-toggleable__label {cursor: pointer;display: block;width: 100%;margin-bottom: 0;padding: 0.3em;box-sizing: border-box;text-align: center;}#sk-container-id-1 label.sk-toggleable__label-arrow:before {content: \"▸\";float: left;margin-right: 0.25em;color: #696969;}#sk-container-id-1 label.sk-toggleable__label-arrow:hover:before {color: black;}#sk-container-id-1 div.sk-estimator:hover label.sk-toggleable__label-arrow:before {color: black;}#sk-container-id-1 div.sk-toggleable__content {max-height: 0;max-width: 0;overflow: hidden;text-align: left;background-color: #f0f8ff;}#sk-container-id-1 div.sk-toggleable__content pre {margin: 0.2em;color: black;border-radius: 0.25em;background-color: #f0f8ff;}#sk-container-id-1 input.sk-toggleable__control:checked~div.sk-toggleable__content {max-height: 200px;max-width: 100%;overflow: auto;}#sk-container-id-1 input.sk-toggleable__control:checked~label.sk-toggleable__label-arrow:before {content: \"▾\";}#sk-container-id-1 div.sk-estimator input.sk-toggleable__control:checked~label.sk-toggleable__label {background-color: #d4ebff;}#sk-container-id-1 div.sk-label input.sk-toggleable__control:checked~label.sk-toggleable__label {background-color: #d4ebff;}#sk-container-id-1 input.sk-hidden--visually {border: 0;clip: rect(1px 1px 1px 1px);clip: rect(1px, 1px, 1px, 1px);height: 1px;margin: -1px;overflow: hidden;padding: 0;position: absolute;width: 1px;}#sk-container-id-1 div.sk-estimator {font-family: monospace;background-color: #f0f8ff;border: 1px dotted black;border-radius: 0.25em;box-sizing: border-box;margin-bottom: 0.5em;}#sk-container-id-1 div.sk-estimator:hover {background-color: #d4ebff;}#sk-container-id-1 div.sk-parallel-item::after {content: \"\";width: 100%;border-bottom: 1px solid gray;flex-grow: 1;}#sk-container-id-1 div.sk-label:hover label.sk-toggleable__label {background-color: #d4ebff;}#sk-container-id-1 div.sk-serial::before {content: \"\";position: absolute;border-left: 1px solid gray;box-sizing: border-box;top: 0;bottom: 0;left: 50%;z-index: 0;}#sk-container-id-1 div.sk-serial {display: flex;flex-direction: column;align-items: center;background-color: white;padding-right: 0.2em;padding-left: 0.2em;position: relative;}#sk-container-id-1 div.sk-item {position: relative;z-index: 1;}#sk-container-id-1 div.sk-parallel {display: flex;align-items: stretch;justify-content: center;background-color: white;position: relative;}#sk-container-id-1 div.sk-item::before, #sk-container-id-1 div.sk-parallel-item::before {content: \"\";position: absolute;border-left: 1px solid gray;box-sizing: border-box;top: 0;bottom: 0;left: 50%;z-index: -1;}#sk-container-id-1 div.sk-parallel-item {display: flex;flex-direction: column;z-index: 1;position: relative;background-color: white;}#sk-container-id-1 div.sk-parallel-item:first-child::after {align-self: flex-end;width: 50%;}#sk-container-id-1 div.sk-parallel-item:last-child::after {align-self: flex-start;width: 50%;}#sk-container-id-1 div.sk-parallel-item:only-child::after {width: 0;}#sk-container-id-1 div.sk-dashed-wrapped {border: 1px dashed gray;margin: 0 0.4em 0.5em 0.4em;box-sizing: border-box;padding-bottom: 0.4em;background-color: white;}#sk-container-id-1 div.sk-label label {font-family: monospace;font-weight: bold;display: inline-block;line-height: 1.2em;}#sk-container-id-1 div.sk-label-container {text-align: center;}#sk-container-id-1 div.sk-container {/* jupyter's `normalize.less` sets `[hidden] { display: none; }` but bootstrap.min.css set `[hidden] { display: none !important; }` so we also need the `!important` here to be able to override the default hidden behavior on the sphinx rendered scikit-learn.org. See: https://github.com/scikit-learn/scikit-learn/issues/21755 */display: inline-block !important;position: relative;}#sk-container-id-1 div.sk-text-repr-fallback {display: none;}</style><div id=\"sk-container-id-1\" class=\"sk-top-container\"><div class=\"sk-text-repr-fallback\"><pre>XGBRegressor(base_score=None, booster=None, callbacks=None,\n",
       "             colsample_bylevel=None, colsample_bynode=None,\n",
       "             colsample_bytree=None, device=None, early_stopping_rounds=None,\n",
       "             enable_categorical=False, eval_metric=None, feature_types=None,\n",
       "             gamma=None, grow_policy=None, importance_type=None,\n",
       "             interaction_constraints=None, learning_rate=None, max_bin=None,\n",
       "             max_cat_threshold=None, max_cat_to_onehot=None,\n",
       "             max_delta_step=None, max_depth=None, max_leaves=None,\n",
       "             min_child_weight=None, missing=nan, monotone_constraints=None,\n",
       "             multi_strategy=None, n_estimators=None, n_jobs=None,\n",
       "             num_parallel_tree=None, random_state=None, ...)</pre><b>In a Jupyter environment, please rerun this cell to show the HTML representation or trust the notebook. <br />On GitHub, the HTML representation is unable to render, please try loading this page with nbviewer.org.</b></div><div class=\"sk-container\" hidden><div class=\"sk-item\"><div class=\"sk-estimator sk-toggleable\"><input class=\"sk-toggleable__control sk-hidden--visually\" id=\"sk-estimator-id-1\" type=\"checkbox\" checked><label for=\"sk-estimator-id-1\" class=\"sk-toggleable__label sk-toggleable__label-arrow\">XGBRegressor</label><div class=\"sk-toggleable__content\"><pre>XGBRegressor(base_score=None, booster=None, callbacks=None,\n",
       "             colsample_bylevel=None, colsample_bynode=None,\n",
       "             colsample_bytree=None, device=None, early_stopping_rounds=None,\n",
       "             enable_categorical=False, eval_metric=None, feature_types=None,\n",
       "             gamma=None, grow_policy=None, importance_type=None,\n",
       "             interaction_constraints=None, learning_rate=None, max_bin=None,\n",
       "             max_cat_threshold=None, max_cat_to_onehot=None,\n",
       "             max_delta_step=None, max_depth=None, max_leaves=None,\n",
       "             min_child_weight=None, missing=nan, monotone_constraints=None,\n",
       "             multi_strategy=None, n_estimators=None, n_jobs=None,\n",
       "             num_parallel_tree=None, random_state=None, ...)</pre></div></div></div></div></div>"
      ],
      "text/plain": [
       "XGBRegressor(base_score=None, booster=None, callbacks=None,\n",
       "             colsample_bylevel=None, colsample_bynode=None,\n",
       "             colsample_bytree=None, device=None, early_stopping_rounds=None,\n",
       "             enable_categorical=False, eval_metric=None, feature_types=None,\n",
       "             gamma=None, grow_policy=None, importance_type=None,\n",
       "             interaction_constraints=None, learning_rate=None, max_bin=None,\n",
       "             max_cat_threshold=None, max_cat_to_onehot=None,\n",
       "             max_delta_step=None, max_depth=None, max_leaves=None,\n",
       "             min_child_weight=None, missing=nan, monotone_constraints=None,\n",
       "             multi_strategy=None, n_estimators=None, n_jobs=None,\n",
       "             num_parallel_tree=None, random_state=None, ...)"
      ]
     },
     "execution_count": 16,
     "metadata": {},
     "output_type": "execute_result"
    }
   ],
   "source": [
    "#traning model\n",
    "model.fit(X_train,Y_train)"
   ]
  },
  {
   "cell_type": "code",
   "execution_count": 17,
   "id": "e60e7820",
   "metadata": {
    "execution": {
     "iopub.execute_input": "2025-03-15T10:47:22.432381Z",
     "iopub.status.busy": "2025-03-15T10:47:22.431993Z",
     "iopub.status.idle": "2025-03-15T10:47:22.447780Z",
     "shell.execute_reply": "2025-03-15T10:47:22.445391Z"
    },
    "papermill": {
     "duration": 0.029391,
     "end_time": "2025-03-15T10:47:22.449954",
     "exception": false,
     "start_time": "2025-03-15T10:47:22.420563",
     "status": "completed"
    },
    "tags": []
   },
   "outputs": [
    {
     "name": "stdout",
     "output_type": "stream",
     "text": [
      "[23.112196  20.992601  20.10438   34.67932   13.920501  13.499354\n",
      " 21.998383  15.206723  10.89543   22.67402   13.795236   5.602332\n",
      " 29.808502  49.98666   34.89634   20.594336  23.388903  19.2118\n",
      " 32.69294   19.604128  26.978151   8.405952  46.00062   21.70406\n",
      " 27.084402  19.372278  19.297894  24.79984   22.608278  31.707775\n",
      " 18.53683    8.703393  17.40025   23.698814  13.29729   10.504759\n",
      " 12.693588  24.994888  19.694864  14.911037  24.20254   24.991112\n",
      " 14.901547  16.987965  15.592753  12.704759  24.505623  15.007718\n",
      " 49.999355  17.509344  21.18844   31.999287  15.606071  22.902134\n",
      " 19.309835  18.697083  23.302961  37.19767   30.102247  33.117855\n",
      " 20.993683  50.00471   13.40048    5.002565  16.50862    8.4016905\n",
      " 28.651423  19.49218   20.595366  45.404697  39.808857  33.4055\n",
      " 19.81498   33.406376  25.30206   49.998615  12.544487  17.433802\n",
      " 18.602612  22.601418  50.004013  23.814182  23.313164  23.097467\n",
      " 41.71243   16.112017  31.604454  36.09397    7.0009975 20.406271\n",
      " 19.992195  12.003392  25.027754  49.98552   37.890903  23.091173\n",
      " 41.289513  17.604618  16.30125   30.05175   22.884857  19.802671\n",
      " 17.106977  18.903633  18.897047  22.598665  23.170893  33.19197\n",
      " 15.00434   11.704804  18.795511  20.817484  17.998543  19.633396\n",
      " 49.998672  17.208574  16.410513  17.506626  14.6008    33.09849\n",
      " 14.504811  43.813366  34.900055  20.388191  14.605566   8.091776\n",
      " 11.777508  11.811628  18.691      6.322443  23.97163   13.073076\n",
      " 19.595     49.99033   22.319597  18.91175   31.203646  20.712711\n",
      " 32.200443  36.188755  14.222898  15.705663  50.000664  20.408077\n",
      " 16.185907  13.410434  50.012474  31.60327   12.288182  19.18906\n",
      " 29.809902  31.49241   22.804003  10.194443  24.09609   23.705154\n",
      " 22.008154  13.790835  28.399841  33.199585  13.102867  19.017357\n",
      " 26.61559   36.963135  30.7939    22.80785   10.206419  22.19713\n",
      " 24.482466  36.19345   23.092129  20.12124   19.498154  10.796299\n",
      " 22.701403  19.49908   20.107922   9.625605  42.797676  48.79655\n",
      " 13.099009  20.29537   24.794712  14.106459  21.698246  22.188694\n",
      " 32.99889   21.09952   24.998121  19.110165  32.401157  13.601795\n",
      " 15.072056  23.06062   27.487326  19.401924  26.481848  27.50343\n",
      " 28.686726  21.19214   18.701029  26.7093    14.01264   21.699009\n",
      " 18.39739   43.11556   29.09378   20.298742  23.711458  18.30434\n",
      " 17.193619  18.321108  24.392206  26.391497  19.10248   13.302614\n",
      " 22.189732  22.199099   8.530714  18.889635  21.800455  19.305798\n",
      " 18.198288   7.4938145 22.400797  20.028303  14.404203  22.500402\n",
      " 28.504164  21.608568  13.798578  20.495127  21.902288  23.100073\n",
      " 50.00128   16.23443   30.298399  49.996014  17.78638   19.060133\n",
      " 10.39715   20.383387  16.496948  17.195917  16.681927  19.509869\n",
      " 30.502445  29.01701   19.558786  23.172018  24.397314   9.528121\n",
      " 23.894762  49.996834  21.196695  22.596247  19.989746  13.393513\n",
      " 19.995872  17.068512  12.718964  23.01111   15.199219  20.609226\n",
      " 26.19055   18.109114  24.098877  14.100204  21.695303  20.096022\n",
      " 25.018776  27.899471  22.918222  18.499252  22.202477  23.99494\n",
      " 14.8048935 19.896328  24.411158  17.790047  24.596226  32.007046\n",
      " 17.778685  23.309103  16.120615  13.003008  10.993355  24.306978\n",
      " 15.597863  35.20248   19.58716   42.29605    8.789314  24.399925\n",
      " 14.109244  15.4010315 17.299047  22.113592  23.106049  44.805172\n",
      " 17.795519  31.499706  22.813938  16.836212  23.911596  12.09551\n",
      " 38.69628   21.387049  16.001123  23.929094  11.897898  24.983562\n",
      "  7.1969633 24.69086   18.187803  22.471941  23.013317  24.295506\n",
      " 17.099222  17.796907  13.503164  27.094381  13.296886  21.90404\n",
      " 19.99361   15.402385  16.588629  22.29326   24.697983  21.428938\n",
      " 22.882269  29.601665  21.881992  19.908726  29.60596   23.408524\n",
      " 13.807421  24.499699  11.901903   7.20547   20.484905   9.706262\n",
      " 48.301437  25.194635  11.691466  17.39672   14.49594   28.584557\n",
      " 19.395731  22.486904   7.0219784 20.60076   22.998001  19.699215\n",
      " 23.700571  25.02278   27.992222  13.39496   14.524017  20.30391\n",
      " 19.304321  24.108646  14.88511   26.387497  33.31608   23.61982\n",
      " 24.60193   18.494753  20.90211   10.411172  23.305649  13.097067\n",
      " 24.699335  22.610847  20.50208   16.82098   10.198874  33.805454\n",
      " 18.60289   50.0009    23.778967  23.91014   21.15922   18.81689\n",
      "  8.491747  21.506403  23.200815  21.043766  16.604784  28.060492\n",
      " 21.197857  28.370916  14.2918625 49.997353  30.989647  24.980095\n",
      " 21.410505  19.000553  29.00484   15.204052  22.791481  21.791014\n",
      " 19.896528  23.77255  ]\n"
     ]
    }
   ],
   "source": [
    "#predict the traning data\n",
    "traning_data_prediction = model.predict(X_train)\n",
    "print(traning_data_prediction)\n",
    "#The model looks at the house details (X_train) and predicts how much each house should cost."
   ]
  },
  {
   "cell_type": "code",
   "execution_count": 18,
   "id": "156f18ce",
   "metadata": {
    "execution": {
     "iopub.execute_input": "2025-03-15T10:47:22.474316Z",
     "iopub.status.busy": "2025-03-15T10:47:22.473810Z",
     "iopub.status.idle": "2025-03-15T10:47:22.481836Z",
     "shell.execute_reply": "2025-03-15T10:47:22.480507Z"
    },
    "papermill": {
     "duration": 0.021637,
     "end_time": "2025-03-15T10:47:22.483801",
     "exception": false,
     "start_time": "2025-03-15T10:47:22.462164",
     "status": "completed"
    },
    "tags": []
   },
   "outputs": [
    {
     "name": "stdout",
     "output_type": "stream",
     "text": [
      "R squared error :  0.9999980039471451\n",
      "Mean absolute error :  0.0091330346494618\n"
     ]
    }
   ],
   "source": [
    "# R square error\n",
    "score_1 = metrics.r2_score(Y_train, traning_data_prediction)\n",
    "print(\"R squared error : \", score_1)\n",
    "\n",
    "#What it does: It checks how well our model's predictions match the actual house prices.\n",
    "#If close to 1 → Model is very good \n",
    "#If close to 0 or negative → Model is bad \n",
    "\n",
    "# Mean absolute error\n",
    "score_2 = metrics.mean_absolute_error(Y_train, traning_data_prediction)\n",
    "print(\"Mean absolute error : \", score_2)\n",
    "\n",
    "#What it does: It checks how far the predictions are from actual house prices.\n",
    "#Smaller number = better model "
   ]
  },
  {
   "cell_type": "markdown",
   "id": "a97fd307",
   "metadata": {
    "papermill": {
     "duration": 0.010432,
     "end_time": "2025-03-15T10:47:22.505264",
     "exception": false,
     "start_time": "2025-03-15T10:47:22.494832",
     "status": "completed"
    },
    "tags": []
   },
   "source": [
    "# Visualizing the actual pricing"
   ]
  },
  {
   "cell_type": "code",
   "execution_count": 19,
   "id": "adad01d2",
   "metadata": {
    "execution": {
     "iopub.execute_input": "2025-03-15T10:47:22.528881Z",
     "iopub.status.busy": "2025-03-15T10:47:22.528473Z",
     "iopub.status.idle": "2025-03-15T10:47:22.750883Z",
     "shell.execute_reply": "2025-03-15T10:47:22.749774Z"
    },
    "papermill": {
     "duration": 0.23648,
     "end_time": "2025-03-15T10:47:22.752507",
     "exception": false,
     "start_time": "2025-03-15T10:47:22.516027",
     "status": "completed"
    },
    "tags": []
   },
   "outputs": [
    {
     "data": {
      "image/png": "[encoded data removed]",
      "text/plain": [
       "<Figure size 640x480 with 1 Axes>"
      ]
     },
     "metadata": {},
     "output_type": "display_data"
    }
   ],
   "source": [
    "plt.scatter(Y_train,traning_data_prediction)\n",
    "plt.xlabel(\"Actual prices\")\n",
    "plt.ylabel(\"Predicted price\")\n",
    "plt.title(\"Actual vs predicted price\")\n",
    "plt.show()"
   ]
  },
  {
   "cell_type": "code",
   "execution_count": 20,
   "id": "2bfce48e",
   "metadata": {
    "execution": {
     "iopub.execute_input": "2025-03-15T10:47:22.776559Z",
     "iopub.status.busy": "2025-03-15T10:47:22.776139Z",
     "iopub.status.idle": "2025-03-15T10:47:22.786309Z",
     "shell.execute_reply": "2025-03-15T10:47:22.784462Z"
    },
    "papermill": {
     "duration": 0.025785,
     "end_time": "2025-03-15T10:47:22.789681",
     "exception": false,
     "start_time": "2025-03-15T10:47:22.763896",
     "status": "completed"
    },
    "tags": []
   },
   "outputs": [
    {
     "name": "stdout",
     "output_type": "stream",
     "text": [
      "[22.007828  21.22598   30.466019  27.735027   9.134951  12.740403\n",
      " 25.738058  27.750889  25.364376  20.229292  27.821787  24.7761\n",
      " 19.771252  20.497349  12.970438  22.86288   19.605635  10.677987\n",
      "  8.277654  15.529657  22.842052  20.002996  34.06762   18.943192\n",
      " 15.624948  18.787666  46.0246    33.05114   34.804283  19.070232\n",
      " 17.53711   20.27066   31.102339  24.026129  12.199101  18.224184\n",
      " 10.182956  21.252314  22.891352  21.458113  26.451164  12.1898775\n",
      " 27.141438   8.322471  21.356699  12.768549  35.221687  14.574406\n",
      " 32.06173   15.088605  31.076805  26.808199   6.1558666 34.42615\n",
      " 25.135347  19.508772  19.424906  19.58183   16.680052  22.962534\n",
      " 20.904106  21.24      18.46788   29.243906  33.434864  26.021257\n",
      " 49.91979   25.905489   9.713634  24.058743  16.63922    9.0341625\n",
      " 13.197622  18.80479   26.985659  24.746912  22.200838  21.017391\n",
      " 19.30188   24.098715  34.517494  19.51518   20.331131  31.346212\n",
      " 47.815742  36.102997  17.42751   24.595816  29.387545  18.68302\n",
      " 19.893139  20.184433  11.331679  38.306778  42.119137   9.208766\n",
      " 43.026043  34.444504  21.611591  17.832836  27.724092  23.295132 ]\n"
     ]
    }
   ],
   "source": [
    "#prediction of test data\n",
    "test_data_prediction=model.predict(X_test)\n",
    "print(test_data_prediction)"
   ]
  },
  {
   "cell_type": "code",
   "execution_count": 21,
   "id": "feb109b9",
   "metadata": {
    "execution": {
     "iopub.execute_input": "2025-03-15T10:47:22.816464Z",
     "iopub.status.busy": "2025-03-15T10:47:22.816076Z",
     "iopub.status.idle": "2025-03-15T10:47:22.824622Z",
     "shell.execute_reply": "2025-03-15T10:47:22.823234Z"
    },
    "papermill": {
     "duration": 0.023317,
     "end_time": "2025-03-15T10:47:22.826609",
     "exception": false,
     "start_time": "2025-03-15T10:47:22.803292",
     "status": "completed"
    },
    "tags": []
   },
   "outputs": [
    {
     "name": "stdout",
     "output_type": "stream",
     "text": [
      "R squared error :  0.9051721149855378\n",
      "Mean absolute error :  2.0748727686264927\n"
     ]
    }
   ],
   "source": [
    "# R square error\n",
    "score_1 = metrics.r2_score(Y_test, test_data_prediction)\n",
    "print(\"R squared error : \", score_1)\n",
    "\n",
    "#What it does: It checks how well our model's predictions match the actual house prices.\n",
    "#If close to 1 → Model is very good \n",
    "#If close to 0 or negative → Model is bad \n",
    "\n",
    "# Mean absolute error\n",
    "score_2 = metrics.mean_absolute_error(Y_test, test_data_prediction)\n",
    "print(\"Mean absolute error : \", score_2)\n",
    "\n",
    "#What it does: It checks how far the predictions are from actual house prices.\n",
    "#Smaller number = better model "
   ]
  },
  {
   "cell_type": "code",
   "execution_count": 22,
   "id": "43f0328b",
   "metadata": {
    "execution": {
     "iopub.execute_input": "2025-03-15T10:47:22.851766Z",
     "iopub.status.busy": "2025-03-15T10:47:22.851409Z",
     "iopub.status.idle": "2025-03-15T10:47:23.033756Z",
     "shell.execute_reply": "2025-03-15T10:47:23.032468Z"
    },
    "papermill": {
     "duration": 0.197193,
     "end_time": "2025-03-15T10:47:23.036188",
     "exception": false,
     "start_time": "2025-03-15T10:47:22.838995",
     "status": "completed"
    },
    "tags": []
   },
   "outputs": [
    {
     "data": {
      "image/png": "[encoded data removed]",
      "text/plain": [
       "<Figure size 640x480 with 1 Axes>"
      ]
     },
     "metadata": {},
     "output_type": "display_data"
    }
   ],
   "source": [
    "plt.scatter(Y_test,test_data_prediction)\n",
    "plt.xlabel(\"Actual prices\")\n",
    "plt.ylabel(\"Predicted price\")\n",
    "plt.title(\"Actual vs predicted price\")\n",
    "plt.show()"
   ]
  },
  {
   "cell_type": "code",
   "execution_count": null,
   "id": "fc20fe60",
   "metadata": {
    "papermill": {
     "duration": 0.011899,
     "end_time": "2025-03-15T10:47:23.060087",
     "exception": false,
     "start_time": "2025-03-15T10:47:23.048188",
     "status": "completed"
    },
    "tags": []
   },
   "outputs": [],
   "source": []
  }
 ],
 "metadata": {
  "kaggle": {
   "accelerator": "none",
   "dataSources": [
    {
     "datasetId": 4335614,
     "sourceId": 7448460,
     "sourceType": "datasetVersion"
    }
   ],
   "dockerImageVersionId": 30918,
   "isGpuEnabled": false,
   "isInternetEnabled": false,
   "language": "python",
   "sourceType": "notebook"
  },
  "kernelspec": {
   "display_name": "Python 3",
   "language": "python",
   "name": "python3"
  },
  "language_info": {
   "codemirror_mode": {
    "name": "ipython",
    "version": 3
   },
   "file_extension": ".py",
   "mimetype": "text/x-python",
   "name": "python",
   "nbconvert_exporter": "python",
   "pygments_lexer": "ipython3",
   "version": "3.10.12"
  },
  "papermill": {
   "default_parameters": {},
   "duration": 9.913571,
   "end_time": "2025-03-15T10:47:23.895138",
   "environment_variables": {},
   "exception": null,
   "input_path": "__notebook__.ipynb",
   "output_path": "__notebook__.ipynb",
   "parameters": {},
   "start_time": "2025-03-15T10:47:13.981567",
   "version": "2.6.0"
  }
 },
 "nbformat": 4,
 "nbformat_minor": 5
}
